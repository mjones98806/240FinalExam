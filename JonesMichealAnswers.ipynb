{
 "cells": [
  {
   "cell_type": "markdown",
   "metadata": {},
   "source": [
    "# Physics 240 \n",
    "## Intermediate Physics Laboratory\n",
    "## FINAL EXAM\n",
    "\n",
    "### Instructions: \n",
    "Answer the following questions and typeset your answers within this notebook, \n",
    "using a mix of markdown and LaTeX code. Some of your work will likely be done\n",
    "by hand; for this work, make sure to turn in these calculations, but still put the \n",
    "answers in this Jupyter Notebook. \n",
    "\n",
    "Follow the steps below and answer the questions as indicated."
   ]
  },
  {
   "cell_type": "code",
   "execution_count": 1,
   "metadata": {
    "collapsed": false
   },
   "outputs": [
    {
     "data": {
      "text/html": [
       "<link href='http://fonts.googleapis.com/css?family=Fenix' rel='stylesheet' type='text/css'>\n",
       "<link href='http://fonts.googleapis.com/css?family=Alegreya+Sans:100,300,400,500,700,800,900,100italic,300italic,400italic,500italic,700italic,800italic,900italic' rel='stylesheet' type='text/css'>\n",
       "<link href='http://fonts.googleapis.com/css?family=Source+Code+Pro:300,400' rel='stylesheet' type='text/css'>\n",
       "<style>\n",
       "\n",
       "@font-face {\n",
       "    font-family: \"Computer Modern\";\n",
       "    src: url('http://mirrors.ctan.org/fonts/cm-unicode/fonts/otf/cmunss.otf');\n",
       "}\n",
       "\n",
       "\n",
       "#notebook_panel { /* main background */\n",
       "    background: rgb(245,245,245);\n",
       "}\n",
       "\n",
       "div.cell { /* set cell width */\n",
       "    width: 800px;\n",
       "}\n",
       "\n",
       "div #notebook { /* centre the content */\n",
       "    background: #fff; /* white background for content */\n",
       "    width: 1000px;\n",
       "    margin: auto;\n",
       "    padding-left: 0em;\n",
       "}\n",
       "\n",
       "#notebook li { /* More space between bullet points */\n",
       "margin-top:0.8em;\n",
       "}\n",
       "\n",
       "/* draw border around running cells */\n",
       "div.cell.border-box-sizing.code_cell.running {\n",
       "    border: 1px solid #111;\n",
       "}\n",
       "\n",
       "/* Put a solid color box around each cell and its output, visually linking them*/\n",
       "div.cell.code_cell {\n",
       "    background-color: rgb(256,256,256);\n",
       "    border-radius: 0px;\n",
       "    padding: 0.5em;\n",
       "    margin-left:1em;\n",
       "    margin-top: 1em;\n",
       "}\n",
       "\n",
       "\n",
       "div.text_cell_render{\n",
       "    font-family: 'Alegreya Sans' sans-serif;\n",
       "    line-height: 140%;\n",
       "    font-size: 125%;\n",
       "    font-weight: 400;\n",
       "    width:600px;\n",
       "    margin-left:auto;\n",
       "    margin-right:auto;\n",
       "}\n",
       "\n",
       "/* Formatting for header cells */\n",
       ".text_cell_render h1 {\n",
       "    font-family: 'Alegreya Sans', sans-serif;\n",
       "    font-style:regular;\n",
       "    font-weight: 200;\n",
       "    font-size: 45pt;\n",
       "    line-height: 100%;\n",
       "    color:#CD2305;\n",
       "    margin-bottom: 0.5em;\n",
       "    margin-top: 0.5em;\n",
       "    display: block;\n",
       "}\n",
       ".text_cell_render h2 {\n",
       "    font-family: 'Fenix', serif;\n",
       "    font-size: 22pt;\n",
       "    line-height: 100%;\n",
       "    margin-bottom: 0.1em;\n",
       "    margin-top: 0.3em;\n",
       "    display: block;\n",
       "}\n",
       "\n",
       ".text_cell_render h3 {\n",
       "    font-family: 'Fenix', serif;\n",
       "    margin-top:12px;\n",
       "\tfont-size: 16pt;\n",
       "    margin-bottom: 3px;\n",
       "    font-style: regular;\n",
       "}\n",
       "\n",
       ".text_cell_render h4 {    /*Use this for captions*/\n",
       "    font-family: 'Fenix', serif;\n",
       "    font-size: 2pt;\n",
       "    text-align: center;\n",
       "    margin-top: 0em;\n",
       "    margin-bottom: 2em;\n",
       "    font-style: regular;\n",
       "}\n",
       "\n",
       ".text_cell_render h5 {  /*Use this for small titles*/\n",
       "    font-family: 'Alegreya Sans', sans-serif;\n",
       "    font-weight: 300;\n",
       "    font-size: 16pt;\n",
       "    color: #CD2305;\n",
       "    font-style: italic;\n",
       "    margin-bottom: .5em;\n",
       "    margin-top: 0.5em;\n",
       "    display: block;\n",
       "}\n",
       "\n",
       ".text_cell_render h6 { /*use this for copyright note*/\n",
       "    font-family: 'Source Code Pro', sans-serif;\n",
       "    font-weight: 300;\n",
       "    font-size: 9pt;\n",
       "    line-height: 100%;\n",
       "    color: grey;\n",
       "    margin-bottom: 1px;\n",
       "    margin-top: 1px;\n",
       "}\n",
       "\n",
       "    .CodeMirror{\n",
       "            font-family: \"Source Code Pro\";\n",
       "\t\t\tfont-size: 90%;\n",
       "    }\n",
       "/*    .prompt{\n",
       "        display: None;\n",
       "    }*/\n",
       "\n",
       "\n",
       "    .warning{\n",
       "        color: rgb( 240, 20, 20 )\n",
       "        }\n",
       "</style>\n",
       "<script>\n",
       "    MathJax.Hub.Config({\n",
       "                        TeX: {\n",
       "                           extensions: [\"AMSmath.js\"],\n",
       "                           equationNumbers: { autoNumber: \"AMS\", useLabelIds: true}\n",
       "                           },\n",
       "                tex2jax: {\n",
       "                    inlineMath: [ ['$','$'], [\"\\\\(\",\"\\\\)\"] ],\n",
       "                    displayMath: [ ['$$','$$'], [\"\\\\[\",\"\\\\]\"] ]\n",
       "                },\n",
       "                displayAlign: 'center', // Change this to 'center' to center equations.\n",
       "                \"HTML-CSS\": {\n",
       "                    styles: {'.MathJax_Display': {\"margin\": 4}}\n",
       "                }\n",
       "        });\n",
       "</script>\n"
      ],
      "text/plain": [
       "<IPython.core.display.HTML object>"
      ]
     },
     "execution_count": 1,
     "metadata": {},
     "output_type": "execute_result"
    }
   ],
   "source": [
    "## This cell installs custom CSS Cell Styles obtained from \n",
    "## Prof. Lorena Barba at https://github.com/barbagroup/AeroPython \n",
    "from IPython.core.display import HTML\n",
    "def css_styling():\n",
    "    styles = open('styles/custom.css', 'r').read()\n",
    "    return HTML(styles)\n",
    "css_styling()"
   ]
  },
  {
   "cell_type": "markdown",
   "metadata": {},
   "source": [
    "## Step 1: Create a GitHub Repository and make an initial commit.\n",
    "    a. Create a folder in your Documents folder called LastnameFirstname240FinalExam.\n",
    "    b. Create a new repository within this folder called 240FinalExam\n",
    "    c. Save this file into the above folder as LastnameFirstnameAnswers.ipynb \n",
    "    d. You should then see an uncommitted change to the 240FinalExam repository; name this \"initial commit\"\n",
    "    and publish the changes.\n",
    "    \n",
    "For example, if your name was Albert Einstein, you'd create a folder called   \n",
    "    *EinsteinAlbert240FinalExam*,   \n",
    "then you would create a new GitHub repository (within this folder) called   \n",
    "    *240FinalExam*   \n",
    "and would save this file into the folder 240FinalExam as    \n",
    "    *EinsteinAlbertFinalAnswers.ipynb*   \n",
    "and upload the file to your github account. \n",
    "\n",
    "Hint: Once you complete steps (a) and (b), you can simply close and halt this notebook (from the Jupyter Notebook file menu, and use your file system browser to drag this file into the folder 240FinalExam. Then this file's existence should show up as as an uncommitted change which you can publish (after first labelling it as the initial commit, of course). \n",
    "\n",
    "All of the above may be easily done by using a GitHub Gui Client available for OSX, Linux, and Windoze at:\n",
    "https://github.com/gitterHQ/desktop\n",
    "\n",
    "For the following questions, I encourage you to make and publish a new commit after you finish each question.\n"
   ]
  },
  {
   "cell_type": "markdown",
   "metadata": {},
   "source": [
    "# Question 1\n",
    "## Statistical Uncertainty with dropped velociraptors\n",
    "\n",
    "<img src=\"Velociraptor.jpg\" width=150 height=150>\n",
    "\n",
    "A velociraptor is dropped from a height of 10.0 $\\pm$ 0.1 meters and the fall time   \n",
    "is measured to the nearest 0.01 seconds. This *experiment* is performed a dozen times with the following drop times in seconds obtained:   \n",
    "1.22, 1.39, 1.55, 1.43, 1.11, 1.64, 1.44, 1.33, 1.55, 1.49, 1.47, 1.35   \n",
    "Calculate the mean value of the drop time and the root mean square uncertainty, $\\Delta t_{rms}$. You may use python or---if you like suffering---your calculator. "
   ]
  },
  {
   "cell_type": "markdown",
   "metadata": {},
   "source": [
    "### Solution method :\n",
    "\n",
    "The root mean squared deviation is calculated as follows:\n",
    "\n",
    "$$\\sqrt{ \\frac{ \\Sigma (t_n - \\bar{t} \\ )^2}{N}}$$\n",
    "\n",
    "I will define a function and feed it the appropriate data to obtain this value and then I will check it against the value obtained by numpy's built in standard deviation command."
   ]
  },
  {
   "cell_type": "code",
   "execution_count": 2,
   "metadata": {
    "collapsed": false
   },
   "outputs": [
    {
     "name": "stdout",
     "output_type": "stream",
     "text": [
      "Mean: 1.41416666667 , Number of Values: 12\n",
      "Calculated RMS deviation: 0.141330483462\n",
      "Python interpretted standard deviation: 0.141330483462\n"
     ]
    }
   ],
   "source": [
    "import numpy as np\n",
    "import matplotlib as plt\n",
    "from scipy.optimize import curve_fit\n",
    "% matplotlib inline\n",
    "\n",
    "raptorData = [1.22, 1.39, 1.55, 1.43, 1.11, 1.64, 1.44, 1.33, 1.55, 1.49, 1.47, 1.35]\n",
    "mean1 = np.mean(raptorData)\n",
    "n = len(raptorData)\n",
    "\n",
    "def rootmeansquare(x, m, n):\n",
    "    return np.sqrt(np.sum((x-m)**2/n))\n",
    "\n",
    "deviation = rootmeansquare(raptorData, mean1, n)\n",
    "\n",
    "print(r'Mean:', mean1, r', Number of Values:', n)\n",
    "print(r'Calculated RMS deviation:', deviation)\n",
    "print(r'Python interpretted standard deviation:', np.std(raptorData))"
   ]
  },
  {
   "cell_type": "markdown",
   "metadata": {},
   "source": [
    "### Question 1 Answer\n",
    "\n",
    "Mean time = $1.41 \\ s$\n",
    "\n",
    "$\\Delta t_{rms} = 0.14 \\ s $"
   ]
  },
  {
   "cell_type": "markdown",
   "metadata": {},
   "source": [
    "# Question 2\n",
    "## Error Propagation; measuring g via dropped velociraptors\n",
    "\n",
    "Suppose you assume that the velociraptor drop experiment was used to determine the acceleration due to gravity. Using your knowledge of basic kinematics (and assuming\n",
    "no air resistance), calculate the experimental value of $g$ that you should report for this data."
   ]
  },
  {
   "cell_type": "markdown",
   "metadata": {},
   "source": [
    "### Solution Method:\n",
    "\n",
    "In order to obtain a value for g, we can use Newton's Laws to write:\n",
    "\n",
    "$$ x(t) = v_0t + \\frac{1}{2}a t^2 $$\n",
    "\n",
    "We know that at $x(0) = 0, v_0 = 0$ and also that $a = g$ and hence is the variable we hope to identify. Rearranging yeilds:\n",
    "\n",
    "$$ g = \\frac{ 2 \\Delta x }{ t^2 } $$\n",
    "\n",
    "Now we can use this equation to obtain an array of values for g given that $ \\Delta x $ is known to be $10 \\pm 0.1  m$. Then we just need to take the standard deviation of the values and that will be the uncertainty in $g$.\n"
   ]
  },
  {
   "cell_type": "code",
   "execution_count": 3,
   "metadata": {
    "collapsed": false
   },
   "outputs": [
    {
     "name": "stdout",
     "output_type": "stream",
     "text": [
      "g = 10.3396997569 +/- 2.34433855551\n",
      "[13.437248051599033, 10.351431085347551, 8.324661810613943, 9.780429360848942, 16.232448664881094, 7.436049970255802, 9.645061728395062, 11.306461642828875, 8.324661810613943, 9.008603216071348, 9.255402841408673, 10.973936899862824]\n"
     ]
    }
   ],
   "source": [
    "def expResult(x,t):\n",
    "    return 2*x*t**(-2)\n",
    "\n",
    "gExperimental = [0,0,0,0,0,0,0,0,0,0,0,0]\n",
    "gExperimental[0] = expResult(10, raptorData[0])\n",
    "gExperimental[1] = expResult(10, raptorData[1])\n",
    "gExperimental[2] = expResult(10, raptorData[2])\n",
    "gExperimental[3] = expResult(10, raptorData[3])\n",
    "gExperimental[4] = expResult(10, raptorData[4])\n",
    "gExperimental[5] = expResult(10, raptorData[5])\n",
    "gExperimental[6] = expResult(10, raptorData[6])\n",
    "gExperimental[7] = expResult(10, raptorData[7])\n",
    "gExperimental[8] = expResult(10, raptorData[8])\n",
    "gExperimental[9] = expResult(10, raptorData[9])\n",
    "gExperimental[10] = expResult(10, raptorData[10])\n",
    "gExperimental[11] = expResult(10, raptorData[11])\n",
    "\n",
    "gdev = np.std(gExperimental)\n",
    "gmean = np.mean(gExperimental)\n",
    "print(r'g =', gmean, r'+/-', gdev)\n",
    "print(gExperimental)"
   ]
  },
  {
   "cell_type": "markdown",
   "metadata": {},
   "source": [
    "### Question 2 Answer\n",
    "\n",
    "g = $ (10.34 \\pm 2.34) \\ \\frac{m}{s^2} $ "
   ]
  },
  {
   "cell_type": "markdown",
   "metadata": {},
   "source": [
    "# Question 3\n",
    "## Determining g with a point mass pendulum via plotting\n",
    "\n",
    "Suppose that you measure the period of a simple pendulum as a function of length   \n",
    "and obtain the following data:   \n",
    "\n",
    "Period Values ($\\pm 0.1$ s) =  0.50, 1.00, 1.50, 2.00, 2.50, 3.00, 3.50, 4.00, 4.50.   \n",
    "Length $(\\pm 0.03)$ m =  0.010,  0.025, 0.070,  0.10,  0.140, 0.230, 0.310, 0.350, 0.500   \n",
    "\n",
    "Knowing that the period of a simple pendulum is   \n",
    "$\\displaystyle T = 2π\\sqrt{\\frac{L}{g}}$   \n",
    "and use an appropriate graph, such that the plot:   \n",
    "\n",
    "    a. gives a straight line whose slope   \n",
    "       directly gives the value of g   \n",
    "    b. shows data points with error bars   \n",
    "    c. includes axes labels and units   \n",
    "    d. includes a best fit line to the data.   \n",
    "\n",
    "Note that you might not be on the earth when conducting this experiment.\n"
   ]
  },
  {
   "cell_type": "markdown",
   "metadata": {},
   "source": [
    "### Solution method:\n",
    "Rearranging the given equation $\\displaystyle T = 2π\\sqrt{\\frac{L}{g}}$ we find:\n",
    "\n",
    "$$ g = \\frac{4 \\pi^2 L}{T^2} $$\n",
    "\n",
    "This equation shows that if we graph $T^2 \\ vs. \\ 4 \\pi^2 L$ the slope should be a simple linear relationship reflecting the value for $g$."
   ]
  },
  {
   "cell_type": "code",
   "execution_count": 9,
   "metadata": {
    "collapsed": false
   },
   "outputs": [
    {
     "name": "stderr",
     "output_type": "stream",
     "text": [
      "/Users/admin/anaconda/lib/python3.4/site-packages/ipykernel/__main__.py:17: DeprecationWarning: using a non-integer number instead of an integer will result in an error in the future\n"
     ]
    },
    {
     "data": {
      "image/png": "[encoded data removed]",
      "text/plain": [
       "<matplotlib.figure.Figure at 0x1072990b8>"
      ]
     },
     "metadata": {},
     "output_type": "display_data"
    }
   ],
   "source": [
    "import matplotlib.pyplot as plt\n",
    "\n",
    "period = [0.50, 1.00, 1.50, 2.00, 2.50, 3.00, 3.50, 4.00, 4.50]\n",
    "length = [0.010,  0.025, 0.070,  0.10,  0.140, 0.230, 0.310, 0.350, 0.500]\n",
    "\n",
    "i = 0\n",
    "\n",
    "xdata = [0,0,0,0,0,0,0,0,0]\n",
    "ydata = [0,0,0,0,0,0,0,0,0]\n",
    "xsteps = np.linspace(0,21,9)\n",
    "\n",
    "for i in range(0,9):\n",
    "    ydata[i] = 4*length[i]*np.pi**2\n",
    "    xdata[i] = period[i]**2\n",
    "    \n",
    "def linearfit(t,m,b):\n",
    "    return m*t + b\n",
    "\n",
    "fitParams, fitCovariance = curve_fit(linearfit, xdata, ydata)\n",
    "\n",
    "sigma = np.sqrt([fitCovariance[0,0], fitCovariance[1,1]])\n",
    "\n",
    "values2 = np.array([\n",
    "    linearfit(xsteps, fitParams[0]+sigma[0], fitParams[1]+sigma[1]),\n",
    "    linearfit(xsteps, fitParams[0]-sigma[0], fitParams[1]-sigma[1]),\n",
    "    linearfit(xsteps, fitParams[0]+sigma[0], fitParams[1]-sigma[1]),\n",
    "    linearfit(xsteps, fitParams[0]-sigma[0], fitParams[1]+sigma[1])          \n",
    "    ])\n",
    "\n",
    "fitError = np.std(values2, axis=0)\n",
    "curveFit = linearfit(xsteps, fitParams[0], fitParams[1])\n",
    "dataFit = linearfit(xdata, fitParams[0], fitParams[1])\n",
    "nSigma = 3\n",
    "N = len(xdata)\n",
    "dx = (max(xdata) - min(xdata))/N\n",
    "\n",
    "fig = plt.figure(figsize=(12,12), dpi=100, facecolor='w')\n",
    "ax = fig.add_subplot(111)\n",
    "ax.xaxis.labelpad = 20\n",
    "ax.yaxis.labelpad = 20\n",
    "\n",
    "plt.plot(xdata,ydata,'o')\n",
    "plt.plot(xsteps, curveFit)\n",
    "\"\"\"\n",
    "plt.bar(left=xdata, \n",
    "    height = 2*nSigma*fitError,  \n",
    "    width=dx, \n",
    "    bottom = curveFit - abs(nSigma*fitError), \n",
    "    orientation = 'vertical', \n",
    "    alpha=0.40, \n",
    "    color = 'purple',\n",
    "    edgecolor = 'blue',\n",
    "    label = r\"$ \\pm 3\\sigma\\;\\;\\mathrm{Error \\ Bars}$\")\n",
    "\"\"\"\n",
    "plt.plot(xsteps, curveFit+fitError, \n",
    "    linewidth = 1.5, \n",
    "    alpha = 0.8, \n",
    "    color = 'orange',\n",
    "    label = r\"$ \\pm 1\\sigma\\;\\;\\mathrm{Error}$\")\n",
    "\n",
    "plt.plot(xsteps, curveFit-fitError, \n",
    "    linewidth = 1.5, \n",
    "    alpha = 0.8, \n",
    "    color = 'orange')\n",
    "\n",
    "props = dict(boxstyle='round', facecolor='wheat', alpha=0.2)\n",
    "plt.text(-4.2, 23.6, \n",
    "    (\"$\\mathrm{y(t)=mx + b \\\\;}$\\n curve fit values: \\n $m$ = %.2f\\t $\\pm$ %.2f\\n $b$ = %.2f\\t $\\pm$ %.2f\" \n",
    "    % (fitParams[0], sigma[0], fitParams[1], sigma[1])), fontsize=24,bbox=props )\n",
    "\n",
    "\n",
    "plt.grid(True)\n",
    "plt.ylim(-5,30)\n",
    "plt.xlim(-5,25)\n",
    "plt.title(r'$\\mathrm{4 \\pi^2 L \\ vs. \\ T^2}$',fontsize=28)\n",
    "plt.xlabel(r'$\\mathrm{T^2 \\ (s^{-2})}$',fontsize=24)\n",
    "plt.ylabel(r'$\\mathrm{4 \\pi^2 L \\ (m)}$',fontsize=24)\n",
    "\n",
    "plt.errorbar(xdata, ydata, fmt = 'ro', yerr = fitError*nSigma, xerr = dx/2, label = r\"$ \\pm 3\\sigma\\;\\;\\mathrm{Error \\ Bars}$\")\n",
    "ax.legend(fontsize=18)\n",
    "\n",
    "plt.show()\n"
   ]
  },
  {
   "cell_type": "markdown",
   "metadata": {},
   "source": [
    "### Question 3 Answer\n",
    "\n",
    "$g \\pm\\;\\Delta g = (0.93 \\pm 0.03 ) \\ \\frac{m}{s^2}$"
   ]
  },
  {
   "cell_type": "markdown",
   "metadata": {},
   "source": [
    "# Final Step for online portion\n",
    "## Final steps, then move on to written portion\n",
    "\n",
    "Now make sure to commit your changes to your master copy, but before doing so, place a link to your repository in the next cell.   "
   ]
  },
  {
   "cell_type": "markdown",
   "metadata": {},
   "source": [
    "Repository Link = https://github.com/mjones98806/240FinalExam"
   ]
  }
 ],
 "metadata": {
  "kernelspec": {
   "display_name": "Python 3",
   "language": "python",
   "name": "python3"
  },
  "language_info": {
   "codemirror_mode": {
    "name": "ipython",
    "version": 3
   },
   "file_extension": ".py",
   "mimetype": "text/x-python",
   "name": "python",
   "nbconvert_exporter": "python",
   "pygments_lexer": "ipython3",
   "version": "3.4.4"
  }
 },
 "nbformat": 4,
 "nbformat_minor": 0
}
